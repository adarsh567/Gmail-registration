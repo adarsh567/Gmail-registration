{
 "cells": [
  {
   "cell_type": "code",
   "execution_count": 9,
   "metadata": {},
   "outputs": [],
   "source": [
    "username = ['adarshprasad0708'   ,'pavisha64'     ,'tuhi54'          ,'purabi68'        ,'aman68']\n",
    "password = ['bokaro1998'   ,'Pavisha76'     ,'Tuhi98'          ,'Pur45'           ,'Aman52']\n",
    "phone_no = ['1234567890'   ,'9876543210'    ,'3456789876'      ,'2345678987'      ,'9876543212']\n",
    "gender   = ['male'         ,'female'        ,'male'            ,'female'          ,'male']\n",
    "fname    = ['Adarsh'       ,'Pavisha'       ,'Tuhinanshu Kumar' ,'Purabi'         ,'Aman']\n",
    "lname    = ['Prasad'       ,'Mahajan'       ,'Panda'           ,'Nandi'           ,'Tandon']\n",
    "dob      = ['16-06-2020'   ,'15-07-2020'    ,'17-09-2020'      ,'18-10-2020'      ,'19-11-2020']"
   ]
  },
  {
   "cell_type": "code",
   "execution_count": 10,
   "metadata": {},
   "outputs": [],
   "source": [
    "sample_data = {'username':username, 'password' : password, 'phone_no' : phone_no , 'gender' : gender , 'fname' : fname,\n",
    "               'lname' : lname, 'dob' :dob}"
   ]
  },
  {
   "cell_type": "code",
   "execution_count": 11,
   "metadata": {},
   "outputs": [
    {
     "data": {
      "text/plain": [
       "dict_keys(['username', 'password', 'phone_no', 'gender', 'fname', 'lname', 'dob'])"
      ]
     },
     "execution_count": 11,
     "metadata": {},
     "output_type": "execute_result"
    }
   ],
   "source": [
    "sample_data.keys()"
   ]
  },
  {
   "cell_type": "code",
   "execution_count": 12,
   "metadata": {},
   "outputs": [
    {
     "data": {
      "text/plain": [
       "['adarshprasad0708', 'pavisha64', 'tuhi54', 'purabi68', 'aman68']"
      ]
     },
     "execution_count": 12,
     "metadata": {},
     "output_type": "execute_result"
    }
   ],
   "source": [
    "sample_data['username']"
   ]
  },
  {
   "cell_type": "code",
   "execution_count": 13,
   "metadata": {},
   "outputs": [],
   "source": [
    "import pandas as pd\n",
    "df = pd.DataFrame(sample_data)"
   ]
  },
  {
   "cell_type": "code",
   "execution_count": 14,
   "metadata": {},
   "outputs": [
    {
     "data": {
      "text/html": [
       "<div>\n",
       "<style scoped>\n",
       "    .dataframe tbody tr th:only-of-type {\n",
       "        vertical-align: middle;\n",
       "    }\n",
       "\n",
       "    .dataframe tbody tr th {\n",
       "        vertical-align: top;\n",
       "    }\n",
       "\n",
       "    .dataframe thead th {\n",
       "        text-align: right;\n",
       "    }\n",
       "</style>\n",
       "<table border=\"1\" class=\"dataframe\">\n",
       "  <thead>\n",
       "    <tr style=\"text-align: right;\">\n",
       "      <th></th>\n",
       "      <th>username</th>\n",
       "      <th>password</th>\n",
       "      <th>phone_no</th>\n",
       "      <th>gender</th>\n",
       "      <th>fname</th>\n",
       "      <th>lname</th>\n",
       "      <th>dob</th>\n",
       "    </tr>\n",
       "  </thead>\n",
       "  <tbody>\n",
       "    <tr>\n",
       "      <th>0</th>\n",
       "      <td>adarshprasad0708</td>\n",
       "      <td>bokaro1998</td>\n",
       "      <td>1234567890</td>\n",
       "      <td>male</td>\n",
       "      <td>Adarsh</td>\n",
       "      <td>Prasad</td>\n",
       "      <td>16-06-2020</td>\n",
       "    </tr>\n",
       "    <tr>\n",
       "      <th>1</th>\n",
       "      <td>pavisha64</td>\n",
       "      <td>Pavisha76</td>\n",
       "      <td>9876543210</td>\n",
       "      <td>female</td>\n",
       "      <td>Pavisha</td>\n",
       "      <td>Mahajan</td>\n",
       "      <td>15-07-2020</td>\n",
       "    </tr>\n",
       "    <tr>\n",
       "      <th>2</th>\n",
       "      <td>tuhi54</td>\n",
       "      <td>Tuhi98</td>\n",
       "      <td>3456789876</td>\n",
       "      <td>male</td>\n",
       "      <td>Tuhinanshu Kumar</td>\n",
       "      <td>Panda</td>\n",
       "      <td>17-09-2020</td>\n",
       "    </tr>\n",
       "    <tr>\n",
       "      <th>3</th>\n",
       "      <td>purabi68</td>\n",
       "      <td>Pur45</td>\n",
       "      <td>2345678987</td>\n",
       "      <td>female</td>\n",
       "      <td>Purabi</td>\n",
       "      <td>Nandi</td>\n",
       "      <td>18-10-2020</td>\n",
       "    </tr>\n",
       "    <tr>\n",
       "      <th>4</th>\n",
       "      <td>aman68</td>\n",
       "      <td>Aman52</td>\n",
       "      <td>9876543212</td>\n",
       "      <td>male</td>\n",
       "      <td>Aman</td>\n",
       "      <td>Tandon</td>\n",
       "      <td>19-11-2020</td>\n",
       "    </tr>\n",
       "  </tbody>\n",
       "</table>\n",
       "</div>"
      ],
      "text/plain": [
       "           username    password    phone_no  gender             fname  \\\n",
       "0  adarshprasad0708  bokaro1998  1234567890    male            Adarsh   \n",
       "1         pavisha64   Pavisha76  9876543210  female           Pavisha   \n",
       "2            tuhi54      Tuhi98  3456789876    male  Tuhinanshu Kumar   \n",
       "3          purabi68       Pur45  2345678987  female            Purabi   \n",
       "4            aman68      Aman52  9876543212    male              Aman   \n",
       "\n",
       "     lname         dob  \n",
       "0   Prasad  16-06-2020  \n",
       "1  Mahajan  15-07-2020  \n",
       "2    Panda  17-09-2020  \n",
       "3    Nandi  18-10-2020  \n",
       "4   Tandon  19-11-2020  "
      ]
     },
     "execution_count": 14,
     "metadata": {},
     "output_type": "execute_result"
    }
   ],
   "source": [
    "df"
   ]
  },
  {
   "cell_type": "code",
   "execution_count": 15,
   "metadata": {},
   "outputs": [
    {
     "data": {
      "text/plain": [
       "<matplotlib.axes._subplots.AxesSubplot at 0x1afdd6fc908>"
      ]
     },
     "execution_count": 15,
     "metadata": {},
     "output_type": "execute_result"
    },
    {
     "data": {
      "image/png": "[encoded data removed]",
      "text/plain": [
       "<Figure size 432x288 with 1 Axes>"
      ]
     },
     "metadata": {
      "needs_background": "light"
     },
     "output_type": "display_data"
    }
   ],
   "source": [
    "import seaborn as sns\n",
    "sns.countplot(x = 'gender',data = df)"
   ]
  },
  {
   "cell_type": "code",
   "execution_count": 17,
   "metadata": {},
   "outputs": [],
   "source": [
    "firstname = [] ; lastname = []\n",
    "def flname():\n",
    "    first_name = input('Enter First Name : ')\n",
    "    while True:\n",
    "        if first_name == '':\n",
    "            break\n",
    "        else:\n",
    "            last_name = input('Enter Last Name :')\n",
    "            firstname.append(first_name)\n",
    "            lastname.append(last_name)\n",
    "            if last_name != '':\n",
    "                break"
   ]
  },
  {
   "cell_type": "code",
   "execution_count": 21,
   "metadata": {},
   "outputs": [
    {
     "data": {
      "text/plain": [
       "(['Adarsh', 'Vinay', 'Somith'], ['Prasad', 'Singh', 'Nighombam'])"
      ]
     },
     "execution_count": 21,
     "metadata": {},
     "output_type": "execute_result"
    }
   ],
   "source": [
    "firstname,lastname"
   ]
  },
  {
   "cell_type": "code",
   "execution_count": 22,
   "metadata": {},
   "outputs": [],
   "source": [
    "user = [] ; pas = []\n",
    "def user_pass():\n",
    "    raw_user_name = input(\"Enter Username ['xyz@gmail.com'] : \").split('@gmail.com')\n",
    "    if raw_user_name[0] in username:\n",
    "        print('username already exists.')   \n",
    "    else:\n",
    "        Password = input('Enter Password: ')\n",
    "        if len(Password)> 8:\n",
    "            if Password.isalnum() != True:\n",
    "                print('Enter uppercases, lowercases and use atleast 1 number')\n",
    "            else:\n",
    "                user.append(raw_user_name[0])\n",
    "                pas.append(Password)\n",
    "        else:\n",
    "            print('use atleast 8 characters.')"
   ]
  },
  {
   "cell_type": "code",
   "execution_count": 27,
   "metadata": {},
   "outputs": [
    {
     "data": {
      "text/plain": [
       "(['adarsh42', 'vinay76', 'somith98'],\n",
       " ['adarsh9832567', 'vinay178945', 'somith784521'])"
      ]
     },
     "execution_count": 27,
     "metadata": {},
     "output_type": "execute_result"
    }
   ],
   "source": [
    "user,pas"
   ]
  },
  {
   "cell_type": "code",
   "execution_count": 28,
   "metadata": {},
   "outputs": [],
   "source": [
    "Date = []\n",
    "def dgp():\n",
    "    import datetime, random\n",
    "    m = ['Jan','Feb','Mar','Apr','May','Jun','Jul','Aug','Sep','Oct','Nov','Dec']\n",
    "    day = int(input('Enter Birth Date : [12, 23, 44...] '))\n",
    "    if day > 31:\n",
    "        print('Invalid Input.')\n",
    "    else:\n",
    "        month = input('Enter Birth Month : [Jan, Feb, Mar, ...] ').capitalize()\n",
    "        if month in m:\n",
    "            #x = datetime.datetime.now()\n",
    "            #Y = x.strftime('%y')\n",
    "            year = int(input('Enter Birth year : [1987, 1956, 2013,...] '))\n",
    "            if year >= 2020:\n",
    "                print('Invalid Year')\n",
    "            else:\n",
    "                DOB = str(day) + '-' + str(month) + '-' + str(year) \n",
    "                Date.append(DOB)\n",
    "        else:\n",
    "            print('Enter valid Month Name')"
   ]
  },
  {
   "cell_type": "code",
   "execution_count": 32,
   "metadata": {},
   "outputs": [
    {
     "data": {
      "text/plain": [
       "['18-Apr-2014', '17-Aug-1954', '15-Sep-2017']"
      ]
     },
     "execution_count": 32,
     "metadata": {},
     "output_type": "execute_result"
    }
   ],
   "source": [
    "Date"
   ]
  },
  {
   "cell_type": "code",
   "execution_count": 33,
   "metadata": {},
   "outputs": [],
   "source": [
    "phonenum = []\n",
    "def mobile():\n",
    "    import random \n",
    "    MOB = input('Enter 10 Digit Mobile Number : ')\n",
    "    if MOB not in phonenum:\n",
    "        if len(MOB) != 10:\n",
    "            print('Invalid Input')\n",
    "        else:\n",
    "            code_generation = random.randint(627463,736453)\n",
    "            code = 'G-'+ str(code_generation) + 'is your One Time Google Verification Code.'\n",
    "            print('Enter the otp sent to your mobile number ending with ',MOB[-3:])\n",
    "            print(code)\n",
    "            otp_enter = input('Enter OTP : ')\n",
    "            if otp_enter == str('G-'+ str(code_generation)):\n",
    "                print('Please accept the Terms & Conditions to create your account.')\n",
    "                answer = input('Accept the T&Cs Enter 1 : ')\n",
    "                if answer != '1':\n",
    "                    print('Invalid Response')\n",
    "                else:\n",
    "                    phonenum.append(MOB)\n",
    "                    print('Account Created Succesfully.')\n",
    "            else:\n",
    "                print('Invalid OTP.')\n",
    "    else:\n",
    "        print('Number already exists.')"
   ]
  },
  {
   "cell_type": "code",
   "execution_count": 36,
   "metadata": {},
   "outputs": [
    {
     "name": "stdout",
     "output_type": "stream",
     "text": [
      "Enter 10 Digit Mobile Number : 4567894213\n",
      "Enter the otp sent to your mobile number ending with  213\n",
      "G-677890is your One Time Google Verification Code.\n",
      "Enter OTP : G-677890\n",
      "Please accept the Terms & Conditions to create your account.\n",
      "Accept the T&Cs Enter 1 : 1\n",
      "Account Created Succesfully.\n"
     ]
    }
   ],
   "source": [
    "mobile()"
   ]
  },
  {
   "cell_type": "code",
   "execution_count": 37,
   "metadata": {},
   "outputs": [],
   "source": [
    "Gender = []\n",
    "def gender():\n",
    "    print('Enter Gender : [\"Male, Female\"] : ')\n",
    "    gen_int = input('Enter Gender : ').capitalize()\n",
    "    if gen_int == 'Male' or 'Female':\n",
    "        Gender.append(gen_int)\n",
    "    else:\n",
    "        print('Invalid Input')"
   ]
  },
  {
   "cell_type": "code",
   "execution_count": 41,
   "metadata": {},
   "outputs": [
    {
     "data": {
      "text/plain": [
       "['Male', 'Male', 'Male']"
      ]
     },
     "execution_count": 41,
     "metadata": {},
     "output_type": "execute_result"
    }
   ],
   "source": [
    "Gender"
   ]
  },
  {
   "cell_type": "code",
   "execution_count": 42,
   "metadata": {},
   "outputs": [
    {
     "data": {
      "text/plain": [
       "(['Adarsh', 'Vinay', 'Somith'],\n",
       " ['Prasad', 'Singh', 'Nighombam'],\n",
       " ['18-Apr-2014', '17-Aug-1954', '15-Sep-2017'],\n",
       " ['9123266505', '1234567890', '4567894213'],\n",
       " ['Male', 'Male', 'Male'],\n",
       " ['adarsh42', 'vinay76', 'somith98'],\n",
       " ['adarsh9832567', 'vinay178945', 'somith784521'])"
      ]
     },
     "execution_count": 42,
     "metadata": {},
     "output_type": "execute_result"
    }
   ],
   "source": [
    "firstname, lastname, Date, phonenum, Gender , user, pas"
   ]
  },
  {
   "cell_type": "code",
   "execution_count": 44,
   "metadata": {},
   "outputs": [],
   "source": [
    "data2 = {'username':user, 'password' : pas, 'phone_no' : phonenum , 'gender' : Gender , 'fname' : firstname,\n",
    "               'lname' : lastname, 'dob' :Date}"
   ]
  },
  {
   "cell_type": "code",
   "execution_count": 45,
   "metadata": {},
   "outputs": [
    {
     "data": {
      "text/plain": [
       "{'username': ['adarsh42', 'vinay76', 'somith98'],\n",
       " 'password': ['adarsh9832567', 'vinay178945', 'somith784521'],\n",
       " 'phone_no': ['9123266505', '1234567890', '4567894213'],\n",
       " 'gender': ['Male', 'Male', 'Male'],\n",
       " 'fname': ['Adarsh', 'Vinay', 'Somith'],\n",
       " 'lname': ['Prasad', 'Singh', 'Nighombam'],\n",
       " 'dob': ['18-Apr-2014', '17-Aug-1954', '15-Sep-2017']}"
      ]
     },
     "execution_count": 45,
     "metadata": {},
     "output_type": "execute_result"
    }
   ],
   "source": [
    "data2"
   ]
  },
  {
   "cell_type": "code",
   "execution_count": 47,
   "metadata": {},
   "outputs": [],
   "source": [
    "import pandas as pd\n",
    "df2 = pd.DataFrame(data2)"
   ]
  },
  {
   "cell_type": "code",
   "execution_count": 48,
   "metadata": {},
   "outputs": [
    {
     "data": {
      "text/html": [
       "<div>\n",
       "<style scoped>\n",
       "    .dataframe tbody tr th:only-of-type {\n",
       "        vertical-align: middle;\n",
       "    }\n",
       "\n",
       "    .dataframe tbody tr th {\n",
       "        vertical-align: top;\n",
       "    }\n",
       "\n",
       "    .dataframe thead th {\n",
       "        text-align: right;\n",
       "    }\n",
       "</style>\n",
       "<table border=\"1\" class=\"dataframe\">\n",
       "  <thead>\n",
       "    <tr style=\"text-align: right;\">\n",
       "      <th></th>\n",
       "      <th>username</th>\n",
       "      <th>password</th>\n",
       "      <th>phone_no</th>\n",
       "      <th>gender</th>\n",
       "      <th>fname</th>\n",
       "      <th>lname</th>\n",
       "      <th>dob</th>\n",
       "    </tr>\n",
       "  </thead>\n",
       "  <tbody>\n",
       "    <tr>\n",
       "      <th>0</th>\n",
       "      <td>adarsh42</td>\n",
       "      <td>adarsh9832567</td>\n",
       "      <td>9123266505</td>\n",
       "      <td>Male</td>\n",
       "      <td>Adarsh</td>\n",
       "      <td>Prasad</td>\n",
       "      <td>18-Apr-2014</td>\n",
       "    </tr>\n",
       "    <tr>\n",
       "      <th>1</th>\n",
       "      <td>vinay76</td>\n",
       "      <td>vinay178945</td>\n",
       "      <td>1234567890</td>\n",
       "      <td>Male</td>\n",
       "      <td>Vinay</td>\n",
       "      <td>Singh</td>\n",
       "      <td>17-Aug-1954</td>\n",
       "    </tr>\n",
       "    <tr>\n",
       "      <th>2</th>\n",
       "      <td>somith98</td>\n",
       "      <td>somith784521</td>\n",
       "      <td>4567894213</td>\n",
       "      <td>Male</td>\n",
       "      <td>Somith</td>\n",
       "      <td>Nighombam</td>\n",
       "      <td>15-Sep-2017</td>\n",
       "    </tr>\n",
       "  </tbody>\n",
       "</table>\n",
       "</div>"
      ],
      "text/plain": [
       "   username       password    phone_no gender   fname      lname          dob\n",
       "0  adarsh42  adarsh9832567  9123266505   Male  Adarsh     Prasad  18-Apr-2014\n",
       "1   vinay76    vinay178945  1234567890   Male   Vinay      Singh  17-Aug-1954\n",
       "2  somith98   somith784521  4567894213   Male  Somith  Nighombam  15-Sep-2017"
      ]
     },
     "execution_count": 48,
     "metadata": {},
     "output_type": "execute_result"
    }
   ],
   "source": [
    "df2"
   ]
  },
  {
   "cell_type": "code",
   "execution_count": 50,
   "metadata": {},
   "outputs": [
    {
     "data": {
      "text/html": [
       "<div>\n",
       "<style scoped>\n",
       "    .dataframe tbody tr th:only-of-type {\n",
       "        vertical-align: middle;\n",
       "    }\n",
       "\n",
       "    .dataframe tbody tr th {\n",
       "        vertical-align: top;\n",
       "    }\n",
       "\n",
       "    .dataframe thead th {\n",
       "        text-align: right;\n",
       "    }\n",
       "</style>\n",
       "<table border=\"1\" class=\"dataframe\">\n",
       "  <thead>\n",
       "    <tr style=\"text-align: right;\">\n",
       "      <th></th>\n",
       "      <th>username</th>\n",
       "      <th>password</th>\n",
       "      <th>phone_no</th>\n",
       "      <th>gender</th>\n",
       "      <th>fname</th>\n",
       "      <th>lname</th>\n",
       "      <th>dob</th>\n",
       "    </tr>\n",
       "  </thead>\n",
       "  <tbody>\n",
       "    <tr>\n",
       "      <th>0</th>\n",
       "      <td>adarshprasad0708</td>\n",
       "      <td>bokaro1998</td>\n",
       "      <td>1234567890</td>\n",
       "      <td>male</td>\n",
       "      <td>Adarsh</td>\n",
       "      <td>Prasad</td>\n",
       "      <td>16-06-2020</td>\n",
       "    </tr>\n",
       "    <tr>\n",
       "      <th>1</th>\n",
       "      <td>pavisha64</td>\n",
       "      <td>Pavisha76</td>\n",
       "      <td>9876543210</td>\n",
       "      <td>female</td>\n",
       "      <td>Pavisha</td>\n",
       "      <td>Mahajan</td>\n",
       "      <td>15-07-2020</td>\n",
       "    </tr>\n",
       "    <tr>\n",
       "      <th>2</th>\n",
       "      <td>tuhi54</td>\n",
       "      <td>Tuhi98</td>\n",
       "      <td>3456789876</td>\n",
       "      <td>male</td>\n",
       "      <td>Tuhinanshu Kumar</td>\n",
       "      <td>Panda</td>\n",
       "      <td>17-09-2020</td>\n",
       "    </tr>\n",
       "    <tr>\n",
       "      <th>3</th>\n",
       "      <td>purabi68</td>\n",
       "      <td>Pur45</td>\n",
       "      <td>2345678987</td>\n",
       "      <td>female</td>\n",
       "      <td>Purabi</td>\n",
       "      <td>Nandi</td>\n",
       "      <td>18-10-2020</td>\n",
       "    </tr>\n",
       "    <tr>\n",
       "      <th>4</th>\n",
       "      <td>aman68</td>\n",
       "      <td>Aman52</td>\n",
       "      <td>9876543212</td>\n",
       "      <td>male</td>\n",
       "      <td>Aman</td>\n",
       "      <td>Tandon</td>\n",
       "      <td>19-11-2020</td>\n",
       "    </tr>\n",
       "  </tbody>\n",
       "</table>\n",
       "</div>"
      ],
      "text/plain": [
       "           username    password    phone_no  gender             fname  \\\n",
       "0  adarshprasad0708  bokaro1998  1234567890    male            Adarsh   \n",
       "1         pavisha64   Pavisha76  9876543210  female           Pavisha   \n",
       "2            tuhi54      Tuhi98  3456789876    male  Tuhinanshu Kumar   \n",
       "3          purabi68       Pur45  2345678987  female            Purabi   \n",
       "4            aman68      Aman52  9876543212    male              Aman   \n",
       "\n",
       "     lname         dob  \n",
       "0   Prasad  16-06-2020  \n",
       "1  Mahajan  15-07-2020  \n",
       "2    Panda  17-09-2020  \n",
       "3    Nandi  18-10-2020  \n",
       "4   Tandon  19-11-2020  "
      ]
     },
     "execution_count": 50,
     "metadata": {},
     "output_type": "execute_result"
    }
   ],
   "source": [
    "df"
   ]
  },
  {
   "cell_type": "code",
   "execution_count": 51,
   "metadata": {},
   "outputs": [],
   "source": [
    "my_data = pd.concat([df,df2])"
   ]
  },
  {
   "cell_type": "code",
   "execution_count": 52,
   "metadata": {},
   "outputs": [
    {
     "data": {
      "text/html": [
       "<div>\n",
       "<style scoped>\n",
       "    .dataframe tbody tr th:only-of-type {\n",
       "        vertical-align: middle;\n",
       "    }\n",
       "\n",
       "    .dataframe tbody tr th {\n",
       "        vertical-align: top;\n",
       "    }\n",
       "\n",
       "    .dataframe thead th {\n",
       "        text-align: right;\n",
       "    }\n",
       "</style>\n",
       "<table border=\"1\" class=\"dataframe\">\n",
       "  <thead>\n",
       "    <tr style=\"text-align: right;\">\n",
       "      <th></th>\n",
       "      <th>username</th>\n",
       "      <th>password</th>\n",
       "      <th>phone_no</th>\n",
       "      <th>gender</th>\n",
       "      <th>fname</th>\n",
       "      <th>lname</th>\n",
       "      <th>dob</th>\n",
       "    </tr>\n",
       "  </thead>\n",
       "  <tbody>\n",
       "    <tr>\n",
       "      <th>0</th>\n",
       "      <td>adarshprasad0708</td>\n",
       "      <td>bokaro1998</td>\n",
       "      <td>1234567890</td>\n",
       "      <td>male</td>\n",
       "      <td>Adarsh</td>\n",
       "      <td>Prasad</td>\n",
       "      <td>16-06-2020</td>\n",
       "    </tr>\n",
       "    <tr>\n",
       "      <th>1</th>\n",
       "      <td>pavisha64</td>\n",
       "      <td>Pavisha76</td>\n",
       "      <td>9876543210</td>\n",
       "      <td>female</td>\n",
       "      <td>Pavisha</td>\n",
       "      <td>Mahajan</td>\n",
       "      <td>15-07-2020</td>\n",
       "    </tr>\n",
       "    <tr>\n",
       "      <th>2</th>\n",
       "      <td>tuhi54</td>\n",
       "      <td>Tuhi98</td>\n",
       "      <td>3456789876</td>\n",
       "      <td>male</td>\n",
       "      <td>Tuhinanshu Kumar</td>\n",
       "      <td>Panda</td>\n",
       "      <td>17-09-2020</td>\n",
       "    </tr>\n",
       "    <tr>\n",
       "      <th>3</th>\n",
       "      <td>purabi68</td>\n",
       "      <td>Pur45</td>\n",
       "      <td>2345678987</td>\n",
       "      <td>female</td>\n",
       "      <td>Purabi</td>\n",
       "      <td>Nandi</td>\n",
       "      <td>18-10-2020</td>\n",
       "    </tr>\n",
       "    <tr>\n",
       "      <th>4</th>\n",
       "      <td>aman68</td>\n",
       "      <td>Aman52</td>\n",
       "      <td>9876543212</td>\n",
       "      <td>male</td>\n",
       "      <td>Aman</td>\n",
       "      <td>Tandon</td>\n",
       "      <td>19-11-2020</td>\n",
       "    </tr>\n",
       "    <tr>\n",
       "      <th>0</th>\n",
       "      <td>adarsh42</td>\n",
       "      <td>adarsh9832567</td>\n",
       "      <td>9123266505</td>\n",
       "      <td>Male</td>\n",
       "      <td>Adarsh</td>\n",
       "      <td>Prasad</td>\n",
       "      <td>18-Apr-2014</td>\n",
       "    </tr>\n",
       "    <tr>\n",
       "      <th>1</th>\n",
       "      <td>vinay76</td>\n",
       "      <td>vinay178945</td>\n",
       "      <td>1234567890</td>\n",
       "      <td>Male</td>\n",
       "      <td>Vinay</td>\n",
       "      <td>Singh</td>\n",
       "      <td>17-Aug-1954</td>\n",
       "    </tr>\n",
       "    <tr>\n",
       "      <th>2</th>\n",
       "      <td>somith98</td>\n",
       "      <td>somith784521</td>\n",
       "      <td>4567894213</td>\n",
       "      <td>Male</td>\n",
       "      <td>Somith</td>\n",
       "      <td>Nighombam</td>\n",
       "      <td>15-Sep-2017</td>\n",
       "    </tr>\n",
       "  </tbody>\n",
       "</table>\n",
       "</div>"
      ],
      "text/plain": [
       "           username       password    phone_no  gender             fname  \\\n",
       "0  adarshprasad0708     bokaro1998  1234567890    male            Adarsh   \n",
       "1         pavisha64      Pavisha76  9876543210  female           Pavisha   \n",
       "2            tuhi54         Tuhi98  3456789876    male  Tuhinanshu Kumar   \n",
       "3          purabi68          Pur45  2345678987  female            Purabi   \n",
       "4            aman68         Aman52  9876543212    male              Aman   \n",
       "0          adarsh42  adarsh9832567  9123266505    Male            Adarsh   \n",
       "1           vinay76    vinay178945  1234567890    Male             Vinay   \n",
       "2          somith98   somith784521  4567894213    Male            Somith   \n",
       "\n",
       "       lname          dob  \n",
       "0     Prasad   16-06-2020  \n",
       "1    Mahajan   15-07-2020  \n",
       "2      Panda   17-09-2020  \n",
       "3      Nandi   18-10-2020  \n",
       "4     Tandon   19-11-2020  \n",
       "0     Prasad  18-Apr-2014  \n",
       "1      Singh  17-Aug-1954  \n",
       "2  Nighombam  15-Sep-2017  "
      ]
     },
     "execution_count": 52,
     "metadata": {},
     "output_type": "execute_result"
    }
   ],
   "source": [
    "my_data"
   ]
  },
  {
   "cell_type": "code",
   "execution_count": 53,
   "metadata": {},
   "outputs": [],
   "source": [
    "day_data = my_data.to_csv('bank-data.csv')"
   ]
  },
  {
   "cell_type": "code",
   "execution_count": 54,
   "metadata": {},
   "outputs": [],
   "source": [
    "login_success = [] ; login_failed = []\n",
    "def login():\n",
    "    bank = pd.read_csv('bank-data.csv', index_col = 'username')\n",
    "    EMAIL = input('Enter email: ').split(\"@\")\n",
    "    em = EMAIL[0]\n",
    "    if em in bank.index.to_list():\n",
    "        PASS = input('Enter Password : ')\n",
    "        if bank['password'][em] == PASS:\n",
    "            import time\n",
    "            t = time.localtime()\n",
    "            currenttime = time.strftime('%H : %M: %S', t)\n",
    "            print('Login Successfull.')\n",
    "            login_success.append(str(em) + ' at ' + str(currenttime))\n",
    "        else:\n",
    "            import time\n",
    "            t = time.localtime()\n",
    "            currenttime = time.strftime('%H : %M: %S', t)\n",
    "            print('Incorrect Password')\n",
    "            login_failed.append(str(em) + ' at ' + str(currenttime))\n",
    "    else:\n",
    "        print('EMAIL doesnot exist!.')"
   ]
  },
  {
   "cell_type": "code",
   "execution_count": 58,
   "metadata": {},
   "outputs": [
    {
     "name": "stdout",
     "output_type": "stream",
     "text": [
      "Enter email: adarshprasad0708@gmail.com\n",
      "Enter Password : Iamheroone\n",
      "Incorrect Password\n"
     ]
    }
   ],
   "source": [
    "login()"
   ]
  },
  {
   "cell_type": "code",
   "execution_count": 59,
   "metadata": {},
   "outputs": [
    {
     "data": {
      "text/plain": [
       "(['adarshprasad0708 at 02 : 49: 18'], ['adarshprasad0708 at 02 : 52: 15'])"
      ]
     },
     "execution_count": 59,
     "metadata": {},
     "output_type": "execute_result"
    }
   ],
   "source": [
    "login_success,login_failed"
   ]
  },
  {
   "cell_type": "code",
   "execution_count": 62,
   "metadata": {},
   "outputs": [],
   "source": [
    "bank = pd.read_csv('bank-data.csv', index_col = 'username')"
   ]
  },
  {
   "cell_type": "code",
   "execution_count": 63,
   "metadata": {},
   "outputs": [
    {
     "data": {
      "text/html": [
       "<div>\n",
       "<style scoped>\n",
       "    .dataframe tbody tr th:only-of-type {\n",
       "        vertical-align: middle;\n",
       "    }\n",
       "\n",
       "    .dataframe tbody tr th {\n",
       "        vertical-align: top;\n",
       "    }\n",
       "\n",
       "    .dataframe thead th {\n",
       "        text-align: right;\n",
       "    }\n",
       "</style>\n",
       "<table border=\"1\" class=\"dataframe\">\n",
       "  <thead>\n",
       "    <tr style=\"text-align: right;\">\n",
       "      <th></th>\n",
       "      <th>Unnamed: 0</th>\n",
       "      <th>password</th>\n",
       "      <th>phone_no</th>\n",
       "      <th>gender</th>\n",
       "      <th>fname</th>\n",
       "      <th>lname</th>\n",
       "      <th>dob</th>\n",
       "    </tr>\n",
       "    <tr>\n",
       "      <th>username</th>\n",
       "      <th></th>\n",
       "      <th></th>\n",
       "      <th></th>\n",
       "      <th></th>\n",
       "      <th></th>\n",
       "      <th></th>\n",
       "      <th></th>\n",
       "    </tr>\n",
       "  </thead>\n",
       "  <tbody>\n",
       "    <tr>\n",
       "      <th>adarshprasad0708</th>\n",
       "      <td>0</td>\n",
       "      <td>bokaro1998</td>\n",
       "      <td>1234567890</td>\n",
       "      <td>male</td>\n",
       "      <td>Adarsh</td>\n",
       "      <td>Prasad</td>\n",
       "      <td>16-06-2020</td>\n",
       "    </tr>\n",
       "    <tr>\n",
       "      <th>pavisha64</th>\n",
       "      <td>1</td>\n",
       "      <td>Pavisha76</td>\n",
       "      <td>9876543210</td>\n",
       "      <td>female</td>\n",
       "      <td>Pavisha</td>\n",
       "      <td>Mahajan</td>\n",
       "      <td>15-07-2020</td>\n",
       "    </tr>\n",
       "    <tr>\n",
       "      <th>tuhi54</th>\n",
       "      <td>2</td>\n",
       "      <td>Tuhi98</td>\n",
       "      <td>3456789876</td>\n",
       "      <td>male</td>\n",
       "      <td>Tuhinanshu Kumar</td>\n",
       "      <td>Panda</td>\n",
       "      <td>17-09-2020</td>\n",
       "    </tr>\n",
       "    <tr>\n",
       "      <th>purabi68</th>\n",
       "      <td>3</td>\n",
       "      <td>Pur45</td>\n",
       "      <td>2345678987</td>\n",
       "      <td>female</td>\n",
       "      <td>Purabi</td>\n",
       "      <td>Nandi</td>\n",
       "      <td>18-10-2020</td>\n",
       "    </tr>\n",
       "    <tr>\n",
       "      <th>aman68</th>\n",
       "      <td>4</td>\n",
       "      <td>Aman52</td>\n",
       "      <td>9876543212</td>\n",
       "      <td>male</td>\n",
       "      <td>Aman</td>\n",
       "      <td>Tandon</td>\n",
       "      <td>19-11-2020</td>\n",
       "    </tr>\n",
       "    <tr>\n",
       "      <th>adarsh42</th>\n",
       "      <td>0</td>\n",
       "      <td>adarsh9832567</td>\n",
       "      <td>9123266505</td>\n",
       "      <td>Male</td>\n",
       "      <td>Adarsh</td>\n",
       "      <td>Prasad</td>\n",
       "      <td>18-Apr-2014</td>\n",
       "    </tr>\n",
       "    <tr>\n",
       "      <th>vinay76</th>\n",
       "      <td>1</td>\n",
       "      <td>vinay178945</td>\n",
       "      <td>1234567890</td>\n",
       "      <td>Male</td>\n",
       "      <td>Vinay</td>\n",
       "      <td>Singh</td>\n",
       "      <td>17-Aug-1954</td>\n",
       "    </tr>\n",
       "    <tr>\n",
       "      <th>somith98</th>\n",
       "      <td>2</td>\n",
       "      <td>somith784521</td>\n",
       "      <td>4567894213</td>\n",
       "      <td>Male</td>\n",
       "      <td>Somith</td>\n",
       "      <td>Nighombam</td>\n",
       "      <td>15-Sep-2017</td>\n",
       "    </tr>\n",
       "  </tbody>\n",
       "</table>\n",
       "</div>"
      ],
      "text/plain": [
       "                  Unnamed: 0       password    phone_no  gender  \\\n",
       "username                                                          \n",
       "adarshprasad0708           0     bokaro1998  1234567890    male   \n",
       "pavisha64                  1      Pavisha76  9876543210  female   \n",
       "tuhi54                     2         Tuhi98  3456789876    male   \n",
       "purabi68                   3          Pur45  2345678987  female   \n",
       "aman68                     4         Aman52  9876543212    male   \n",
       "adarsh42                   0  adarsh9832567  9123266505    Male   \n",
       "vinay76                    1    vinay178945  1234567890    Male   \n",
       "somith98                   2   somith784521  4567894213    Male   \n",
       "\n",
       "                             fname      lname          dob  \n",
       "username                                                    \n",
       "adarshprasad0708            Adarsh     Prasad   16-06-2020  \n",
       "pavisha64                  Pavisha    Mahajan   15-07-2020  \n",
       "tuhi54            Tuhinanshu Kumar      Panda   17-09-2020  \n",
       "purabi68                    Purabi      Nandi   18-10-2020  \n",
       "aman68                        Aman     Tandon   19-11-2020  \n",
       "adarsh42                    Adarsh     Prasad  18-Apr-2014  \n",
       "vinay76                      Vinay      Singh  17-Aug-1954  \n",
       "somith98                    Somith  Nighombam  15-Sep-2017  "
      ]
     },
     "execution_count": 63,
     "metadata": {},
     "output_type": "execute_result"
    }
   ],
   "source": [
    "bank"
   ]
  },
  {
   "cell_type": "code",
   "execution_count": 64,
   "metadata": {},
   "outputs": [
    {
     "data": {
      "text/plain": [
       "Index(['Unnamed: 0', 'password', 'phone_no', 'gender', 'fname', 'lname',\n",
       "       'dob'],\n",
       "      dtype='object')"
      ]
     },
     "execution_count": 64,
     "metadata": {},
     "output_type": "execute_result"
    }
   ],
   "source": [
    "bank.columns"
   ]
  },
  {
   "cell_type": "code",
   "execution_count": 65,
   "metadata": {},
   "outputs": [
    {
     "data": {
      "text/plain": [
       "Index(['adarshprasad0708', 'pavisha64', 'tuhi54', 'purabi68', 'aman68',\n",
       "       'adarsh42', 'vinay76', 'somith98'],\n",
       "      dtype='object', name='username')"
      ]
     },
     "execution_count": 65,
     "metadata": {},
     "output_type": "execute_result"
    }
   ],
   "source": [
    "bank.index"
   ]
  },
  {
   "cell_type": "code",
   "execution_count": 67,
   "metadata": {},
   "outputs": [
    {
     "data": {
      "text/plain": [
       "['adarshprasad0708',\n",
       " 'pavisha64',\n",
       " 'tuhi54',\n",
       " 'purabi68',\n",
       " 'aman68',\n",
       " 'adarsh42',\n",
       " 'vinay76',\n",
       " 'somith98']"
      ]
     },
     "execution_count": 67,
     "metadata": {},
     "output_type": "execute_result"
    }
   ],
   "source": [
    "list(bank.index)"
   ]
  },
  {
   "cell_type": "code",
   "execution_count": 68,
   "metadata": {},
   "outputs": [
    {
     "data": {
      "text/plain": [
       "'Tuhinanshu Kumar'"
      ]
     },
     "execution_count": 68,
     "metadata": {},
     "output_type": "execute_result"
    }
   ],
   "source": [
    "bank['fname']['tuhi54']"
   ]
  },
  {
   "cell_type": "code",
   "execution_count": 69,
   "metadata": {},
   "outputs": [
    {
     "data": {
      "text/plain": [
       "'Pur45'"
      ]
     },
     "execution_count": 69,
     "metadata": {},
     "output_type": "execute_result"
    }
   ],
   "source": [
    "bank['password']['purabi68']"
   ]
  },
  {
   "cell_type": "code",
   "execution_count": 71,
   "metadata": {},
   "outputs": [
    {
     "name": "stdout",
     "output_type": "stream",
     "text": [
      "Enter email: pavisha64@gmail.com\n",
      "Enter Password : Pavisha88\n",
      "Incorrect Password\n"
     ]
    }
   ],
   "source": [
    "login()"
   ]
  },
  {
   "cell_type": "code",
   "execution_count": 76,
   "metadata": {},
   "outputs": [
    {
     "data": {
      "text/plain": [
       "['adarshprasad0708 at 02 : 49: 18',\n",
       " 'adarshprasad0708 at 03 : 03: 14',\n",
       " 'adarshprasad0708 at 03 : 05: 53']"
      ]
     },
     "execution_count": 76,
     "metadata": {},
     "output_type": "execute_result"
    }
   ],
   "source": [
    "login_success"
   ]
  },
  {
   "cell_type": "code",
   "execution_count": 78,
   "metadata": {},
   "outputs": [
    {
     "data": {
      "text/plain": [
       "['adarshprasad0708 at 02 : 52: 15',\n",
       " 'pavisha64 at 03 : 04: 03',\n",
       " 'aman68 at 03 : 07: 13']"
      ]
     },
     "execution_count": 78,
     "metadata": {},
     "output_type": "execute_result"
    }
   ],
   "source": [
    "login_failed"
   ]
  },
  {
   "cell_type": "code",
   "execution_count": 77,
   "metadata": {},
   "outputs": [
    {
     "name": "stdout",
     "output_type": "stream",
     "text": [
      "Enter email: aman68@gmail.com\n",
      "Enter Password : Aman93\n",
      "Incorrect Password\n"
     ]
    }
   ],
   "source": [
    "login()"
   ]
  }
 ],
 "metadata": {
  "kernelspec": {
   "display_name": "Python 3",
   "language": "python",
   "name": "python3"
  },
  "language_info": {
   "codemirror_mode": {
    "name": "ipython",
    "version": 3
   },
   "file_extension": ".py",
   "mimetype": "text/x-python",
   "name": "python",
   "nbconvert_exporter": "python",
   "pygments_lexer": "ipython3",
   "version": "3.7.6"
  }
 },
 "nbformat": 4,
 "nbformat_minor": 4
}
